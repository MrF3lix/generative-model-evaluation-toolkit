{
 "cells": [
  {
   "cell_type": "code",
   "execution_count": 1,
   "id": "b59003e2",
   "metadata": {},
   "outputs": [],
   "source": [
    "import pandas as pd\n",
    "from prettytable import PrettyTable"
   ]
  },
  {
   "cell_type": "code",
   "execution_count": 2,
   "id": "6519d004",
   "metadata": {},
   "outputs": [],
   "source": [
    "DATASET_PATH  = '../../../../03_datasets/animals/annotations/final'\n",
    "\n",
    "\n",
    "MODEL = { \n",
    "    'Stable Diffusion 3.5': [f'{DATASET_PATH}/25-05-09_Stable-Diffusion-3.5_animal_match.json',f'{DATASET_PATH}/25-05-09_Stable-Diffusion-3.5_count_match.json'],\n",
    "    'Stable Cascade': [f'{DATASET_PATH}/25-05-09_Stable-Cascade_animal_match.json',f'{DATASET_PATH}/25-05-09_Stable-Cascade_count_match.json'],\n",
    "    'Black Forest FLUX-1-dev': [f'{DATASET_PATH}/25-05-09_FLUX.1-dev_animal_match.json',f'{DATASET_PATH}/25-05-09_FLUX.1-dev_count_match.json']\n",
    "}"
   ]
  },
  {
   "cell_type": "code",
   "execution_count": 3,
   "id": "de48abe0",
   "metadata": {},
   "outputs": [],
   "source": [
    "def get_animal(input):\n",
    "    animal = input.split(' ')[1]\n",
    "    animal = animal.rstrip(\"s\")\n",
    "    return animal\n",
    "\n",
    "def get_count(input):\n",
    "    count = input.split(' ')[0]\n",
    "    return int(count)"
   ]
  },
  {
   "cell_type": "code",
   "execution_count": 4,
   "id": "c88786c8",
   "metadata": {},
   "outputs": [],
   "source": [
    "def get_count_match(file):\n",
    "    df = pd.read_json(file, orient='records')\n",
    "    df_oracle_ratings = df.loc[~df['oracle'].isna()]\n",
    "\n",
    "    return df_oracle_ratings['oracle'].value_counts()['count_match'] / len(df_oracle_ratings) * 100\n",
    "\n",
    "def get_animal_match(file):\n",
    "    df = pd.read_json(file, orient='records')\n",
    "    df_oracle_ratings = df.loc[~df['oracle'].isna()]\n",
    "\n",
    "    return df_oracle_ratings['oracle'].value_counts()['animal_match'] / len(df_oracle_ratings) * 100"
   ]
  },
  {
   "cell_type": "code",
   "execution_count": 5,
   "id": "efc1f6f0",
   "metadata": {},
   "outputs": [
    {
     "data": {
      "text/html": [
       "<table>\n",
       "    <thead>\n",
       "        <tr>\n",
       "            <th>Model</th>\n",
       "            <th>Type Match %</th>\n",
       "            <th>Count Match %</th>\n",
       "        </tr>\n",
       "    </thead>\n",
       "    <tbody>\n",
       "        <tr>\n",
       "            <td>Stable Diffusion 3.5</td>\n",
       "            <td>100.0</td>\n",
       "            <td>61.0</td>\n",
       "        </tr>\n",
       "        <tr>\n",
       "            <td>Stable Cascade</td>\n",
       "            <td>72.0</td>\n",
       "            <td>5.0</td>\n",
       "        </tr>\n",
       "        <tr>\n",
       "            <td>Black Forest FLUX-1-dev</td>\n",
       "            <td>100.0</td>\n",
       "            <td>65.0</td>\n",
       "        </tr>\n",
       "    </tbody>\n",
       "</table>"
      ],
      "text/plain": [
       "+-------------------------+--------------+---------------+\n",
       "|          Model          | Type Match % | Count Match % |\n",
       "+-------------------------+--------------+---------------+\n",
       "|   Stable Diffusion 3.5  |    100.0     |      61.0     |\n",
       "|      Stable Cascade     |     72.0     |      5.0      |\n",
       "| Black Forest FLUX-1-dev |    100.0     |      65.0     |\n",
       "+-------------------------+--------------+---------------+"
      ]
     },
     "execution_count": 5,
     "metadata": {},
     "output_type": "execute_result"
    }
   ],
   "source": [
    "t = PrettyTable(['Model', 'Type Match %', 'Count Match %'])\n",
    "\n",
    "for id, annotations in MODEL.items():\n",
    "\n",
    "    animal_annotation = annotations[0]\n",
    "    count_annotation = annotations[1]\n",
    "\n",
    "    animal_match = get_animal_match(animal_annotation)\n",
    "    count_match = get_count_match(count_annotation)\n",
    "\n",
    "    t.add_row([id, animal_match, count_match])\n",
    "\n",
    "t"
   ]
  }
 ],
 "metadata": {
  "kernelspec": {
   "display_name": "evaluation-toolkit",
   "language": "python",
   "name": "python3"
  },
  "language_info": {
   "codemirror_mode": {
    "name": "ipython",
    "version": 3
   },
   "file_extension": ".py",
   "mimetype": "text/x-python",
   "name": "python",
   "nbconvert_exporter": "python",
   "pygments_lexer": "ipython3",
   "version": "3.10.14"
  }
 },
 "nbformat": 4,
 "nbformat_minor": 5
}
