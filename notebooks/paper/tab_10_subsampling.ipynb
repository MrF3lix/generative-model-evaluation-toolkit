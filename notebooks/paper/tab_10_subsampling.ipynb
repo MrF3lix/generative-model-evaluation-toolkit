{
 "cells": [
  {
   "cell_type": "code",
   "execution_count": 7,
   "id": "ada52061",
   "metadata": {},
   "outputs": [],
   "source": [
    "import json\n",
    "import pandas as pd\n",
    "from omegaconf import OmegaConf"
   ]
  },
  {
   "cell_type": "code",
   "execution_count": 8,
   "id": "734d51b2",
   "metadata": {},
   "outputs": [],
   "source": [
    "BASE_PATH = f'../../out/pipeline'\n",
    "\n",
    "MODEL = {\n",
    "    'Llama-3.3-70B': f'{BASE_PATH}/2025-05-15_sentiment_analysis_llama3-3',\n",
    "    'Llama-2-7B': f'{BASE_PATH}/2025-05-15_sentiment_analysis_llama2',\n",
    "    'Mistral-7B': f'{BASE_PATH}/2025-05-15_sentiment_analysis_mistral',\n",
    "}\n",
    "\n",
    "IMAGE_MODEL_ANIMAL = {\n",
    "    'Stable Diffusion 3.5': f'{BASE_PATH}/2025-05-15_animal_detection_stable-diffusion_animal',\n",
    "    # 'Stable Cascade': f'',\n",
    "    'FLUX.1-dev': f'{BASE_PATH}/2025-05-15_animal_detection_flux_animal'\n",
    "}\n",
    "\n",
    "IMAGE_MODEL_COUNT = {\n",
    "    'Stable Diffusion 3.5': f'{BASE_PATH}/2025-05-15_animal_detection_stable-diffusion_count',\n",
    "    # 'Stable Cascade': f'',\n",
    "    'FLUX.1-dev': f'{BASE_PATH}/2025-05-15_animal_detection_flux_count'\n",
    "}\n",
    "\n",
    "cls_name2id = {\n",
    "    'FinancialBERT': 'FIB',\n",
    "    'lxyuan_DistilBert': 'DSS',\n",
    "    'ollama3.2': 'LL3',\n",
    "    'Yolov8': 'VO8',\n",
    "    'DETR': 'DTR',\n",
    "    'LLaVA': 'LLV'\n",
    "}\n",
    "\n",
    "model_name2id = {\n",
    "    'Llama-3.3-70B': 'L370B',\n",
    "    'Llama-2-7B': 'L27B',\n",
    "    'Mistral-7B': 'Mi7B',\n",
    "    'Stable Diffusion 3.5': 'SD35',\n",
    "    'Stable Cascade': 'StCa',\n",
    "    'FLUX.1-dev': 'FLX1'\n",
    "}"
   ]
  },
  {
   "cell_type": "code",
   "execution_count": 9,
   "id": "1ab32d90",
   "metadata": {},
   "outputs": [],
   "source": [
    "for id, path in MODEL.items():\n",
    "\n",
    "    cfg = OmegaConf.load(f'{path}/config.yaml')\n",
    "\n",
    "    for idx, cls in enumerate(cfg.classifier):\n",
    "        break\n",
    "\n",
    "    break"
   ]
  }
 ],
 "metadata": {
  "kernelspec": {
   "display_name": "evaluation-toolkit",
   "language": "python",
   "name": "python3"
  },
  "language_info": {
   "codemirror_mode": {
    "name": "ipython",
    "version": 3
   },
   "file_extension": ".py",
   "mimetype": "text/x-python",
   "name": "python",
   "nbconvert_exporter": "python",
   "pygments_lexer": "ipython3",
   "version": "3.10.14"
  }
 },
 "nbformat": 4,
 "nbformat_minor": 5
}
