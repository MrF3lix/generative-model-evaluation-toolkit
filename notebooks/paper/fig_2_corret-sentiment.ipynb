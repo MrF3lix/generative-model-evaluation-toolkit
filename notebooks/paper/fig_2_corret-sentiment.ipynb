{
 "cells": [
  {
   "cell_type": "code",
   "execution_count": 6,
   "id": "33871d2c",
   "metadata": {},
   "outputs": [],
   "source": [
    "import re\n",
    "import pandas as pd\n",
    "from prettytable import PrettyTable"
   ]
  },
  {
   "cell_type": "code",
   "execution_count": 7,
   "id": "018c7c81",
   "metadata": {},
   "outputs": [],
   "source": [
    "ANNOTATION_BASE_PATH = f'../../../../03_datasets/sentiment-analysis_stories/annotations/final'\n",
    "\n",
    "MODEL = {\n",
    "    'Llama-3.3-70B': f'{ANNOTATION_BASE_PATH}/25-05-09_Annotations_Llama3-3.json',\n",
    "    'Llama-2-7B': f'{ANNOTATION_BASE_PATH}/25-05-09_Annotations_Llama2.json',\n",
    "    'Mistral-7B': f'{ANNOTATION_BASE_PATH}/25-05-09_Annotations_Mistral.json',\n",
    "}\n"
   ]
  },
  {
   "cell_type": "code",
   "execution_count": 8,
   "id": "db6d6207",
   "metadata": {},
   "outputs": [],
   "source": [
    "def extract_sentiment(input):\n",
    "    m = re.search('The story should have a (.+?) sentiment', input)\n",
    "    if m:\n",
    "        found = m.group(1)\n",
    "        return found\n",
    "\n",
    "    return input\n",
    "\n",
    "def get_annotations(path):\n",
    "    df = pd.read_json(path)\n",
    "    df = df.loc[~df['oracle'].isna()]\n",
    "    df['condition'] = df['input'].apply(extract_sentiment)\n",
    "    df['match'] = df['condition'] == df['oracle']\n",
    "    \n",
    "    return df\n",
    "\n",
    "def pretty_print_latex(latex_str):\n",
    "    lines = latex_str.replace(r\" \\\\ \", r\" \\\\\" + \"\\n\").splitlines()\n",
    "    formatted_lines = []\n",
    "    indent_level = 0\n",
    "    for line in lines:\n",
    "        if r\"\\begin\" in line:\n",
    "            formatted_lines.append(line)\n",
    "            indent_level += 1\n",
    "        elif r\"\\end\" in line:\n",
    "            indent_level -= 1\n",
    "            formatted_lines.append(line)\n",
    "        else:\n",
    "            formatted_lines.append(\"    \" * indent_level + line)\n",
    "    return \"\\n\".join(formatted_lines)"
   ]
  },
  {
   "cell_type": "code",
   "execution_count": 9,
   "id": "73660ca6",
   "metadata": {},
   "outputs": [
    {
     "data": {
      "text/html": [
       "<table>\n",
       "    <thead>\n",
       "        <tr>\n",
       "            <th>Generator</th>\n",
       "            <th>Title match (%)</th>\n",
       "            <th>Condition Match (%)</th>\n",
       "        </tr>\n",
       "    </thead>\n",
       "    <tbody>\n",
       "        <tr>\n",
       "            <td>Llama-3.3-70B</td>\n",
       "            <td>100</td>\n",
       "            <td>87</td>\n",
       "        </tr>\n",
       "        <tr>\n",
       "            <td>Llama-2-7B</td>\n",
       "            <td>98</td>\n",
       "            <td>80</td>\n",
       "        </tr>\n",
       "        <tr>\n",
       "            <td>Mistral-7B</td>\n",
       "            <td>96</td>\n",
       "            <td>76</td>\n",
       "        </tr>\n",
       "    </tbody>\n",
       "</table>"
      ],
      "text/plain": [
       "+---------------+-----------------+---------------------+\n",
       "|   Generator   | Title match (%) | Condition Match (%) |\n",
       "+---------------+-----------------+---------------------+\n",
       "| Llama-3.3-70B |       100       |          87         |\n",
       "|   Llama-2-7B  |        98       |          80         |\n",
       "|   Mistral-7B  |        96       |          76         |\n",
       "+---------------+-----------------+---------------------+"
      ]
     },
     "execution_count": 9,
     "metadata": {},
     "output_type": "execute_result"
    }
   ],
   "source": [
    "t = PrettyTable(['Generator', 'Title match (%)', 'Condition Match (%)'])\n",
    "\n",
    "\n",
    "for id, path in MODEL.items():\n",
    "    df = get_annotations(path)\n",
    "    df['match'].value_counts()\n",
    "\n",
    "    match = df['match'].value_counts()[True]\n",
    "\n",
    "    t.add_row([id, len(df), match])\n",
    "\n",
    "t"
   ]
  },
  {
   "cell_type": "code",
   "execution_count": 10,
   "id": "c4977e78",
   "metadata": {},
   "outputs": [
    {
     "name": "stdout",
     "output_type": "stream",
     "text": [
      "\\begin{tabular}{ccc}\n",
      "    Generator & Title match (%) & Condition Match (%) \\\\\n",
      "    Llama-3.3-70B & 100 & 87 \\\\\n",
      "    Llama-2-7B & 98 & 80 \\\\\n",
      "    Mistral-7B & 96 & 76 \\\\\n",
      "\\end{tabular}\n"
     ]
    }
   ],
   "source": [
    "l = pretty_print_latex(t.get_latex_string())\n",
    "\n",
    "print(l)"
   ]
  }
 ],
 "metadata": {
  "kernelspec": {
   "display_name": ".venv",
   "language": "python",
   "name": "python3"
  },
  "language_info": {
   "codemirror_mode": {
    "name": "ipython",
    "version": 3
   },
   "file_extension": ".py",
   "mimetype": "text/x-python",
   "name": "python",
   "nbconvert_exporter": "python",
   "pygments_lexer": "ipython3",
   "version": "3.10.14"
  }
 },
 "nbformat": 4,
 "nbformat_minor": 5
}
